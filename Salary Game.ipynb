{
 "cells": [
  {
   "cell_type": "code",
   "execution_count": 40,
   "metadata": {},
   "outputs": [
    {
     "data": {
      "image/png": "[encoded data removed]",
      "text/plain": [
       "<Figure size 432x288 with 1 Axes>"
      ]
     },
     "metadata": {
      "needs_background": "light"
     },
     "output_type": "display_data"
    }
   ],
   "source": [
    "import numpy as np\n",
    "import random\n",
    "import matplotlib.pyplot as plt\n",
    "\n",
    "n = 120       # 班級的總修課同學的總數 \n",
    "m = 40000     # 每個學生擁有的初始薪水\n",
    "dm = 10000    # 每次猜拳的固定薪水變化\n",
    "k = 3600      # 修課同學們的總猜拳次數\n",
    "stop = True   # 學生擁有的薪水可否負債 \n",
    "\n",
    "R = list(range(0,n))\n",
    "students = np.zeros(n) + m\n",
    "\n",
    "def match():\n",
    "    random.shuffle(R)\n",
    "    gambler = R[:2]\n",
    "    return gambler\n",
    "\n",
    "for i in range(0,k):\n",
    "    gambler = match()\n",
    "    if stop :\n",
    "        while students[gambler[0]] <= 0 or students[gambler[1]] <= 0:\n",
    "            gambler = match()\n",
    "    \n",
    "    remain = np.random.randint(3) # 猜拳的三種可能\n",
    "    \n",
    "    if     remain == 0:\n",
    "        students[gambler[0]] += dm\n",
    "        students[gambler[1]] -= dm\n",
    "    elif   remain == 1:\n",
    "        students[gambler[0]] -= dm\n",
    "        students[gambler[1]] += dm\n",
    "        \n",
    "plt.hist(students)\n",
    "plt.show()"
   ]
  },
  {
   "cell_type": "code",
   "execution_count": null,
   "metadata": {},
   "outputs": [],
   "source": []
  }
 ],
 "metadata": {
  "kernelspec": {
   "display_name": "Python 3",
   "language": "python",
   "name": "python3"
  },
  "language_info": {
   "codemirror_mode": {
    "name": "ipython",
    "version": 3
   },
   "file_extension": ".py",
   "mimetype": "text/x-python",
   "name": "python",
   "nbconvert_exporter": "python",
   "pygments_lexer": "ipython3",
   "version": "3.7.1"
  }
 },
 "nbformat": 4,
 "nbformat_minor": 2
}
